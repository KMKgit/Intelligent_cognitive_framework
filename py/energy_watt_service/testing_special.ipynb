{
 "cells": [
  {
   "cell_type": "code",
   "execution_count": 1,
   "metadata": {
    "collapsed": false
   },
   "outputs": [
    {
     "name": "stderr",
     "output_type": "stream",
     "text": [
      "Using Theano backend.\n",
      "Using gpu device 0: GeForce GTX 680 (CNMeM is enabled with initial size: 75.0% of memory, cuDNN not available)\n"
     ]
    }
   ],
   "source": [
    "from __future__ import absolute_import\n",
    "from __future__ import print_function\n",
    "import numpy as np\n",
    "import pandas as pd\n",
    "import time, os\n",
    "from sklearn.metrics import accuracy_score, f1_score, precision_score, recall_score\n",
    "from IPython.core.debugger import Tracer\n",
    "from nilm import NILM_Trainer\n",
    "\n",
    "from keras.preprocessing import sequence\n",
    "from keras.models import load_model\n",
    "from keras.optimizers import SGD, RMSprop, Adagrad, Adadelta\n",
    "from keras.utils import np_utils\n",
    "from keras.models import Sequential\n",
    "from keras.layers.core import Dense, Dropout, Activation, TimeDistributedDense\n",
    "from keras.layers.wrappers import TimeDistributed\n",
    "from keras.layers.embeddings import Embedding\n",
    "from keras.layers.recurrent import GRU, SimpleRNN, LSTM\n",
    "from keras.datasets import imdb\n",
    "from keras.callbacks import ModelCheckpoint, History\n",
    "\n",
    "%matplotlib notebook"
   ]
  },
  {
   "cell_type": "code",
   "execution_count": 2,
   "metadata": {
    "collapsed": false
   },
   "outputs": [],
   "source": [
    "time_step=10"
   ]
  },
  {
   "cell_type": "code",
   "execution_count": 4,
   "metadata": {
    "collapsed": false
   },
   "outputs": [],
   "source": [
    "model = load_model('/Volumes/MAC_SUB/workspace/개방형_중간점검/energy_api_train/square_training/result/train_201611_16_21_02/model.h5')"
   ]
  },
  {
   "cell_type": "code",
   "execution_count": 5,
   "metadata": {
    "collapsed": true
   },
   "outputs": [],
   "source": [
    "train_df = pd.read_csv('../data/fan_mix_hair/train_50_shuffled.csv')\n",
    "std = train_df['watt'].std()\n",
    "mean  = train_df['watt'].mean()"
   ]
  },
  {
   "cell_type": "code",
   "execution_count": 32,
   "metadata": {
    "collapsed": false
   },
   "outputs": [
    {
     "name": "stdout",
     "output_type": "stream",
     "text": [
      "33.4766182013 50.00095\n"
     ]
    }
   ],
   "source": [
    "print(std, mean)"
   ]
  },
  {
   "cell_type": "code",
   "execution_count": 9,
   "metadata": {
    "collapsed": true
   },
   "outputs": [],
   "source": [
    "def trans_watt(watt, std, mean):\n",
    "    watt_list = time_step*[watt]\n",
    "    watt_np = np.array(watt_list, dtype=float)\n",
    "    watt_np = (watt_np-mean)/float(std)\n",
    "    watt_np = watt_np.reshape(1, time_step, 1)\n",
    "    return watt_np"
   ]
  },
  {
   "cell_type": "code",
   "execution_count": 28,
   "metadata": {
    "collapsed": false
   },
   "outputs": [],
   "source": [
    "watt = 38\n",
    "input_np = trans_watt(watt, std, mean)\n",
    "pred_np = model.predict_classes(input_np, verbose=1)\n",
    "print(pred_np)"
   ]
  }
 ],
 "metadata": {
  "kernelspec": {
   "display_name": "Python 2",
   "language": "python",
   "name": "python2"
  },
  "language_info": {
   "codemirror_mode": {
    "name": "ipython",
    "version": 2
   },
   "file_extension": ".py",
   "mimetype": "text/x-python",
   "name": "python",
   "nbconvert_exporter": "python",
   "pygments_lexer": "ipython2",
   "version": "2.7.12"
  }
 },
 "nbformat": 4,
 "nbformat_minor": 0
}
